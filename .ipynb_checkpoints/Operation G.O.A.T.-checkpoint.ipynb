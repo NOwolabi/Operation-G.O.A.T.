{
 "cells": [
  {
   "cell_type": "code",
   "execution_count": 6,
   "metadata": {},
   "outputs": [],
   "source": [
    "%matplotlib notebook\n",
    "\n",
    "from modsim import *\n",
    "from math import *"
   ]
  },
  {
   "cell_type": "code",
   "execution_count": 7,
   "metadata": {},
   "outputs": [
    {
     "name": "stdout",
     "output_type": "stream",
     "text": [
      "Operation G.O.A.T.\n"
     ]
    }
   ],
   "source": [
    "print('Operation G.O.A.T.')"
   ]
  },
  {
   "cell_type": "code",
   "execution_count": 38,
   "metadata": {},
   "outputs": [],
   "source": [
    "meter = UNITS.meter\n",
    "second = UNITS.second\n",
    "newton = UNITS.newtons\n",
    "degrees = UNITS.degrees\n",
    "\n",
    "\n",
    "def force_g(m):\n",
    "    q = m * -9.8 \n",
    "    force = q * newton\n",
    "    return force\n",
    "    \n",
    "def torque(force, r, x):\n",
    "    torque = force * (r * meter) * (sin(x) * degrees)\n",
    "    return torque\n",
    "\n",
    "def accel(mass_of_people):\n",
    "    acceleration_of_agent = (mass_of_people * -9.8) / mass_of_agent\n",
    "    return acceleration_of_agent\n",
    "\n",
    "def launch_angle():\n",
    "    sign_theta = (torque_of_peoples)/(fg_of_agent*r)\n",
    "    angle = arcsin(sign_theta)\n",
    "    return angle"
   ]
  },
  {
   "cell_type": "code",
   "execution_count": null,
   "metadata": {},
   "outputs": [],
   "source": []
  },
  {
   "cell_type": "code",
   "execution_count": null,
   "metadata": {},
   "outputs": [],
   "source": []
  },
  {
   "cell_type": "code",
   "execution_count": null,
   "metadata": {
    "collapsed": true
   },
   "outputs": [],
   "source": []
  }
 ],
 "metadata": {
  "kernelspec": {
   "display_name": "Python 3",
   "language": "python",
   "name": "python3"
  },
  "language_info": {
   "codemirror_mode": {
    "name": "ipython",
    "version": 3
   },
   "file_extension": ".py",
   "mimetype": "text/x-python",
   "name": "python",
   "nbconvert_exporter": "python",
   "pygments_lexer": "ipython3",
   "version": "3.6.1"
  }
 },
 "nbformat": 4,
 "nbformat_minor": 2
}
