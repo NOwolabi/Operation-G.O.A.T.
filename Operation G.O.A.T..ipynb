{
 "cells": [
  {
   "cell_type": "code",
   "execution_count": 3,
   "metadata": {
    "collapsed": true
   },
   "outputs": [],
   "source": [
    "%matplotlib notebook\n",
    "\n",
    "from modsim import *\n",
    "from math import *"
   ]
  },
  {
   "cell_type": "code",
   "execution_count": 4,
   "metadata": {},
   "outputs": [
    {
     "name": "stdout",
     "output_type": "stream",
     "text": [
      "Operation G.O.A.T.\n"
     ]
    }
   ],
   "source": [
    "print('Operation G.O.A.T.')"
   ]
  },
  {
   "cell_type": "code",
   "execution_count": 14,
   "metadata": {},
   "outputs": [],
   "source": [
    "meter = UNITS.meter\n",
    "second = UNITS.second\n",
    "newton = UNITS.newtons\n",
    "degrees = UNITS.degrees\n",
    "kg = UNITS.kilograms\n",
    "#knot = 1.8520008892119 * miles * 60 * second\n",
    "\n",
    "\n",
    "def force_g(m):\n",
    "    q = (m) * (-9.8)\n",
    "    force = q * newton\n",
    "    return force\n",
    "    \n",
    "def torque(force, r, x):\n",
    "    torque = force * (r * meter) * (sin(x) * degrees)\n",
    "    return torque\n",
    "\n",
    "def accel(mass_of_people):\n",
    "    acceleration_of_agent = ((mass_of_people * kg) * (-9.8 * meter / (second ** 2))) / (mass_of_agent * kg)\n",
    "    return acceleration_of_agent\n",
    "\n",
    "def launch_angle(sin_theta):\n",
    "    sign_theta = (torque_of_peoples)/(fg_of_agent*r)\n",
    "    angle = arcsin(sign_theta)\n",
    "    return angle"
   ]
  },
  {
   "cell_type": "code",
   "execution_count": 15,
   "metadata": {},
   "outputs": [
    {
     "name": "stdout",
     "output_type": "stream",
     "text": [
      "force needed to take out a guy on impact\n",
      "code the equations to model the position of the components over time\n",
      "code the sweep to show how many people it will take to knock over the guy on impact\n",
      "time delay before launch so that agent knocks guy out on impact\n"
     ]
    }
   ],
   "source": [
    "print('force needed to take out a guy on impact')\n",
    "print('code the equations to model the position of the components over time')\n",
    "print('code the sweep to show how many people it will take to knock over the guy on impact')\n",
    "print('time delay before launch so that agent knocks guy out on impact')"
   ]
  },
  {
   "cell_type": "code",
   "execution_count": null,
   "metadata": {},
   "outputs": [],
   "source": [
    "condition = Condition(x = 0 * m, \n",
    "                      y = 1 * m,\n",
    "                      g = 9.8 * m/s**2,\n",
    "                      mass = 22e4 * kg,\n",
    "                      rho = 1.2 * kg/m**3,\n",
    "                      C_d = 0.3,\n",
    "                      angle = 45 * degree,\n",
    "                      velocity = 40 * m / s,\n",
    "                      duration = 5.1 * s)\n",
    "\n",
    "#not done with this cell"
   ]
  },
  {
   "cell_type": "code",
   "execution_count": 16,
   "metadata": {},
   "outputs": [
    {
     "data": {
      "text/html": [
       "-980.0000000000001 newton"
      ],
      "text/latex": [
       "$-980.0000000000001 newton$"
      ],
      "text/plain": [
       "<Quantity(-980.0000000000001, 'newton')>"
      ]
     },
     "execution_count": 16,
     "metadata": {},
     "output_type": "execute_result"
    }
   ],
   "source": [
    "force_g(100)"
   ]
  },
  {
   "cell_type": "code",
   "execution_count": null,
   "metadata": {
    "collapsed": true
   },
   "outputs": [],
   "source": []
  }
 ],
 "metadata": {
  "kernelspec": {
   "display_name": "Python 3",
   "language": "python",
   "name": "python3"
  },
  "language_info": {
   "codemirror_mode": {
    "name": "ipython",
    "version": 3
   },
   "file_extension": ".py",
   "mimetype": "text/x-python",
   "name": "python",
   "nbconvert_exporter": "python",
   "pygments_lexer": "ipython3",
   "version": "3.6.1"
  }
 },
 "nbformat": 4,
 "nbformat_minor": 2
}
